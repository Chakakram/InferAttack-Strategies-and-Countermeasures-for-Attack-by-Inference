{
 "cells": [
  {
   "cell_type": "code",
   "execution_count": 40,
   "id": "11e1ad40",
   "metadata": {
    "executionInfo": {
     "elapsed": 7749,
     "status": "ok",
     "timestamp": 1711440219908,
     "user": {
      "displayName": "Boucherikha Ramzi",
      "userId": "06809089538434853188"
     },
     "user_tz": -60
    },
    "id": "11e1ad40"
   },
   "outputs": [],
   "source": [
    "import time\n",
    "import csv\n",
    "import numpy as np\n",
    "import pandas as pd\n",
    "import numpy as np\n",
    "import tensorflow as tf\n",
    "from tensorflow import keras\n",
    "from sklearn.model_selection import train_test_split\n",
    "from keras.utils import to_categorical\n",
    "from sklearn.preprocessing import StandardScaler\n",
    "from sklearn.neighbors import KNeighborsClassifier\n",
    "from sklearn.ensemble import RandomForestClassifier\n",
    "from sklearn.preprocessing import OneHotEncoder\n",
    "import xgboost as xgb\n",
    "from sklearn.tree import DecisionTreeClassifier\n",
    "from sklearn.metrics import classification_report\n",
    "import warnings\n",
    "from statistics import mean\n",
    "import xgboost as xgb\n",
    "from joblib import dump\n",
    "from joblib import load"
   ]
  },
  {
   "cell_type": "code",
   "execution_count": 88,
   "id": "22f4b383",
   "metadata": {},
   "outputs": [
    {
     "name": "stdout",
     "output_type": "stream",
     "text": [
      "Forme de X_train_attacker: (170542, 14)\n",
      "Shape of X_test_attacker: (63165, 14)\n",
      "Shape of X_val_attacker: (18950, 14)\n",
      "Shape of X_train_defender: (170542, 14)\n",
      "Shape of X_test_defender: (63164, 14)\n",
      "Shape of X_val_defender: (18950, 14)\n",
      "(170542, 17)\n"
     ]
    }
   ],
   "source": [
    "DataSet_=\"IPFIXRecords\"\n",
    "# Chargement des données d'entraînement du défenseur\n",
    "X_train_defender = pd.read_csv('Dataset/'+DataSet_+'/X_train_defender.csv')\n",
    "y_train_defender = pd.read_csv('Dataset/'+DataSet_+'/y_train_defender.csv')\n",
    "\n",
    "# Chargement des données de test du défenseur\n",
    "X_test_defender = pd.read_csv('Dataset/'+DataSet_+'/X_test_defender.csv')\n",
    "y_test_defender = pd.read_csv('Dataset/'+DataSet_+'/y_test_defender.csv')\n",
    "\n",
    "# Chargement des données de validation du défenseur\n",
    "X_val_defender = pd.read_csv('Dataset/'+DataSet_+'/X_val_defender.csv')\n",
    "y_val_defender = pd.read_csv('Dataset/'+DataSet_+'/y_val_defender.csv')\n",
    "\n",
    "# Chargement des données d'entraînement de l'attaquant\n",
    "X_train_attacker = pd.read_csv('Dataset/'+DataSet_+'/X_train_attacker.csv')\n",
    "y_train_attacker = pd.read_csv('Dataset/'+DataSet_+'/y_train_attacker.csv')\n",
    "\n",
    "# Chargement des données de test de l'attaquant\n",
    "X_test_attacker = pd.read_csv('Dataset/'+DataSet_+'/X_test_attacker.csv')\n",
    "y_test_attacker = pd.read_csv('Dataset/'+DataSet_+'/y_test_attacker.csv')\n",
    "\n",
    "# Chargement des données de validation de l'attaquant\n",
    "X_val_attacker = pd.read_csv('Dataset/'+DataSet_+'/X_val_attacker.csv')\n",
    "y_val_attacker = pd.read_csv('Dataset/'+DataSet_+'/y_val_attacker.csv')\n",
    "\n",
    "# Assurer que les formes sont correctes\n",
    "print(\"Forme de X_train_attacker:\", X_train_attacker.shape)\n",
    "print(\"Shape of X_test_attacker:\", X_test_attacker.shape)\n",
    "print(\"Shape of X_val_attacker:\", X_val_attacker.shape)\n",
    "print(\"Shape of X_train_defender:\", X_train_defender.shape)\n",
    "print(\"Shape of X_test_defender:\", X_test_defender.shape)\n",
    "print(\"Shape of X_val_defender:\", X_val_defender.shape)\n",
    "\n",
    "\n",
    "encoder = OneHotEncoder()\n",
    "\n",
    "# Adapter et transformer les étiquettes du défenseur\n",
    "y_train_encoded_defender = encoder.fit_transform(y_train_defender)\n",
    "y_val_encoded_defender = encoder.transform(y_val_defender)\n",
    "y_test_encoded_defender = encoder.transform(y_test_defender)\n",
    "\n",
    "y_train_encoded_defender = np.array(y_train_encoded_defender.toarray())\n",
    "y_val_encoded_defender = np.array(y_val_encoded_defender.toarray())\n",
    "y_test_encoded_defender = np.array(y_test_encoded_defender.toarray())\n",
    "encoder = OneHotEncoder()\n",
    "# Adapter et transformer les étiquettes de l'attaquant\n",
    "y_train_encoded_attacker = encoder.fit_transform(y_train_attacker)\n",
    "y_val_encoded_attacker = encoder.transform(y_val_attacker)\n",
    "y_test_encoded_attacker = encoder.transform(y_test_attacker)\n",
    "y_train_encoded_attacker = np.array(y_train_encoded_attacker.toarray())\n",
    "y_val_encoded_attacker = np.array(y_val_encoded_attacker.toarray())\n",
    "y_test_encoded_attacker = np.array(y_test_encoded_attacker.toarray())\n",
    "\n",
    "print(y_train_encoded_attacker.shape)\n",
    "scaler = StandardScaler()\n",
    "X_train_scaled_attacker = scaler.fit_transform(X_train_attacker)\n",
    "X_test_scaled_attacker = scaler.transform(X_test_attacker)\n",
    "X_val_scaled_attacker = scaler.transform(X_val_attacker)\n",
    "scaler = StandardScaler()\n",
    "X_train_scaled_defender = scaler.fit_transform(X_train_defender)\n",
    "X_test_scaled_defender = scaler.transform(X_test_defender)\n",
    "X_val_scaled_defender = scaler.transform(X_val_defender)"
   ]
  },
  {
   "cell_type": "code",
   "execution_count": 89,
   "id": "10901e0e",
   "metadata": {},
   "outputs": [
    {
     "name": "stdout",
     "output_type": "stream",
     "text": [
      "Perfermance de modèle de substitution KNN {'precision': 0.9715239381140494, 'recall': 0.9713444367044519, 'f1-score': 0.9711837849099246, 'support': 63164.0}\n",
      "Perfermance de modèle de l'attaqaunt KNN {'precision': 0.973673759638278, 'recall': 0.9730546980131402, 'f1-score': 0.9728340102905737, 'support': 63165.0}\n"
     ]
    },
    {
     "data": {
      "text/plain": [
       "['Model\\\\IPFIXRecords\\\\AttackerModel\\\\knn_attacker.joblib']"
      ]
     },
     "execution_count": 89,
     "metadata": {},
     "output_type": "execute_result"
    }
   ],
   "source": [
    "warnings.filterwarnings(\"ignore\", category=UserWarning)\n",
    "# Sélection des paramètres\n",
    "nmbVoisinsDefenseur = 8\n",
    "nmbVoisinsAttaquant = 3\n",
    "# Modèle KNN pour le défenseur\n",
    "knn_defender = KNeighborsClassifier(n_neighbors=nmbVoisinsDefenseur)\n",
    "knn_defender.fit(X_train_defender, y_train_defender)\n",
    "\n",
    "# Prédiction et rapport de classification pour le défenseur\n",
    "y_pred_defender = knn_defender.predict(X_test_defender)\n",
    "report_defender = classification_report(y_test_defender, y_pred_defender, output_dict=True)\n",
    "print(\"Perfermance de modèle de substitution KNN\",report_defender['weighted avg'])\n",
    "dump(knn_defender, 'Model\\\\' + DataSet_ + '\\\\DefenderModel\\\\knn_defender.joblib')\n",
    "\n",
    "# Modèle KNN pour l'attaquant\n",
    "knn_attacker = KNeighborsClassifier(n_neighbors=nmbVoisinsAttaquant)\n",
    "knn_attacker.fit(X_train_attacker, y_train_attacker)\n",
    "\n",
    "# Prédiction et rapport de classification pour l'attaquant\n",
    "y_pred_attacker = knn_attacker.predict(X_test_attacker)\n",
    "report_attacker = classification_report(y_test_attacker, y_pred_attacker, output_dict=True)\n",
    "print(\"Perfermance de modèle de l'attaqaunt KNN\",report_attacker['weighted avg'])\n",
    "\n",
    "dump(knn_attacker, 'Model\\\\' + DataSet_ + '\\\\AttackerModel\\\\knn_attacker.joblib')"
   ]
  },
  {
   "cell_type": "code",
   "execution_count": 90,
   "id": "d8accd7b",
   "metadata": {},
   "outputs": [
    {
     "name": "stdout",
     "output_type": "stream",
     "text": [
      "Perfermance de modèle de substitution RF {'precision': 0.9770670883406994, 'recall': 0.9763314546260529, 'f1-score': 0.9763028771846382, 'support': 63164.0}\n",
      "Perfermance de modèle de substitution RF {'precision': 0.9770670883406994, 'recall': 0.9763314546260529, 'f1-score': 0.9763028771846382, 'support': 63164.0}\n"
     ]
    },
    {
     "data": {
      "text/plain": [
       "['Model\\\\IPFIXRecords\\\\AttackerModel\\\\RandomForest_attacker.joblib']"
      ]
     },
     "execution_count": 90,
     "metadata": {},
     "output_type": "execute_result"
    }
   ],
   "source": [
    "warnings.filterwarnings(\"ignore\", category=UserWarning)\n",
    "\n",
    "nmbEstimatorsDefenseur = 200\n",
    "nmbEstimatorsAttaquant = 100\n",
    "\n",
    "# RandomForest pour Défenseur\n",
    "RandomForest_defender = RandomForestClassifier(n_estimators=nmbEstimatorsDefenseur, n_jobs=-1, random_state=0)\n",
    "RandomForest_defender.fit(X_train_defender, y_train_defender)\n",
    "pred_defender = RandomForest_defender.predict(X_test_defender)\n",
    "report_defender = classification_report(y_test_defender, pred_defender, output_dict=True)\n",
    "print(\"Perfermance de modèle de substitution RF\",report_defender['weighted avg'])\n",
    "\n",
    "\n",
    "dump(RandomForest_defender, 'Model\\\\' + DataSet_ + '\\\\DefenderModel\\\\RandomForest_defender.joblib')\n",
    "\n",
    "# RandomForest pour l'attaquant\n",
    "RandomForest_attacker = RandomForestClassifier(n_estimators=nmbEstimatorsAttaquant, n_jobs=-1, random_state=0)\n",
    "RandomForest_attacker.fit(X_train_attacker, y_train_attacker)\n",
    "pred_attacker = RandomForest_attacker.predict(X_test_attacker)\n",
    "report_attacker = classification_report(y_test_attacker, pred_attacker, output_dict=True)\n",
    "print(\"Perfermance de modèle de substitution RF\",report_defender['weighted avg'])\n",
    "dump(RandomForest_attacker, 'Model\\\\' + DataSet_ + '\\\\AttackerModel\\\\RandomForest_attacker.joblib')"
   ]
  },
  {
   "cell_type": "code",
   "execution_count": 91,
   "id": "497e92dc",
   "metadata": {
    "colab": {
     "base_uri": "https://localhost:8080/"
    },
    "executionInfo": {
     "elapsed": 175532,
     "status": "ok",
     "timestamp": 1711440551441,
     "user": {
      "displayName": "Boucherikha Ramzi",
      "userId": "06809089538434853188"
     },
     "user_tz": -60
    },
    "id": "497e92dc",
    "outputId": "a6a646ce-0864-4cf8-85fa-29c1f12314ce"
   },
   "outputs": [
    {
     "name": "stdout",
     "output_type": "stream",
     "text": [
      "Epoch 1/10\n",
      "\u001b[1m1706/1706\u001b[0m \u001b[32m━━━━━━━━━━━━━━━━━━━━\u001b[0m\u001b[37m\u001b[0m \u001b[1m34s\u001b[0m 19ms/step - accuracy: 0.6946 - loss: 0.8230\n",
      "Epoch 2/10\n",
      "\u001b[1m1706/1706\u001b[0m \u001b[32m━━━━━━━━━━━━━━━━━━━━\u001b[0m\u001b[37m\u001b[0m \u001b[1m34s\u001b[0m 20ms/step - accuracy: 0.8740 - loss: 0.3928\n",
      "Epoch 3/10\n",
      "\u001b[1m1706/1706\u001b[0m \u001b[32m━━━━━━━━━━━━━━━━━━━━\u001b[0m\u001b[37m\u001b[0m \u001b[1m34s\u001b[0m 20ms/step - accuracy: 0.9037 - loss: 0.2976\n",
      "Epoch 4/10\n",
      "\u001b[1m1706/1706\u001b[0m \u001b[32m━━━━━━━━━━━━━━━━━━━━\u001b[0m\u001b[37m\u001b[0m \u001b[1m32s\u001b[0m 19ms/step - accuracy: 0.9144 - loss: 0.2684\n",
      "Epoch 5/10\n",
      "\u001b[1m1706/1706\u001b[0m \u001b[32m━━━━━━━━━━━━━━━━━━━━\u001b[0m\u001b[37m\u001b[0m \u001b[1m32s\u001b[0m 19ms/step - accuracy: 0.9198 - loss: 0.2405\n",
      "Epoch 6/10\n",
      "\u001b[1m1706/1706\u001b[0m \u001b[32m━━━━━━━━━━━━━━━━━━━━\u001b[0m\u001b[37m\u001b[0m \u001b[1m34s\u001b[0m 20ms/step - accuracy: 0.9250 - loss: 0.2250\n",
      "Epoch 7/10\n",
      "\u001b[1m1706/1706\u001b[0m \u001b[32m━━━━━━━━━━━━━━━━━━━━\u001b[0m\u001b[37m\u001b[0m \u001b[1m35s\u001b[0m 20ms/step - accuracy: 0.9234 - loss: 0.2304\n",
      "Epoch 8/10\n",
      "\u001b[1m1706/1706\u001b[0m \u001b[32m━━━━━━━━━━━━━━━━━━━━\u001b[0m\u001b[37m\u001b[0m \u001b[1m34s\u001b[0m 20ms/step - accuracy: 0.9265 - loss: 0.2157\n",
      "Epoch 9/10\n",
      "\u001b[1m1706/1706\u001b[0m \u001b[32m━━━━━━━━━━━━━━━━━━━━\u001b[0m\u001b[37m\u001b[0m \u001b[1m34s\u001b[0m 20ms/step - accuracy: 0.9279 - loss: 0.2104\n",
      "Epoch 10/10\n",
      "\u001b[1m1706/1706\u001b[0m \u001b[32m━━━━━━━━━━━━━━━━━━━━\u001b[0m\u001b[37m\u001b[0m \u001b[1m34s\u001b[0m 20ms/step - accuracy: 0.9301 - loss: 0.2041\n",
      "\u001b[1m1974/1974\u001b[0m \u001b[32m━━━━━━━━━━━━━━━━━━━━\u001b[0m\u001b[37m\u001b[0m \u001b[1m8s\u001b[0m 4ms/step\n"
     ]
    },
    {
     "name": "stderr",
     "output_type": "stream",
     "text": [
      "WARNING:absl:You are saving your model as an HDF5 file via `model.save()` or `keras.saving.save_model(model)`. This file format is considered legacy. We recommend using instead the native Keras format, e.g. `model.save('my_model.keras')` or `keras.saving.save_model(model, 'my_model.keras')`. \n"
     ]
    },
    {
     "name": "stdout",
     "output_type": "stream",
     "text": [
      "Perfermance de modèle de substitution DNN {'precision': 0.9284195720467078, 'recall': 0.9224241656639858, 'f1-score': 0.922746983635982, 'support': 63164.0}\n",
      "Epoch 1/10\n",
      "\u001b[1m1706/1706\u001b[0m \u001b[32m━━━━━━━━━━━━━━━━━━━━\u001b[0m\u001b[37m\u001b[0m \u001b[1m14s\u001b[0m 7ms/step - accuracy: 0.6828 - loss: 0.8899 - val_accuracy: 0.8389 - val_loss: 0.4495\n",
      "Epoch 2/10\n",
      "\u001b[1m1706/1706\u001b[0m \u001b[32m━━━━━━━━━━━━━━━━━━━━\u001b[0m\u001b[37m\u001b[0m \u001b[1m13s\u001b[0m 7ms/step - accuracy: 0.8548 - loss: 0.4252 - val_accuracy: 0.8968 - val_loss: 0.3498\n",
      "Epoch 3/10\n",
      "\u001b[1m1706/1706\u001b[0m \u001b[32m━━━━━━━━━━━━━━━━━━━━\u001b[0m\u001b[37m\u001b[0m \u001b[1m13s\u001b[0m 8ms/step - accuracy: 0.8918 - loss: 0.3334 - val_accuracy: 0.8993 - val_loss: 0.2931\n",
      "Epoch 4/10\n",
      "\u001b[1m1706/1706\u001b[0m \u001b[32m━━━━━━━━━━━━━━━━━━━━\u001b[0m\u001b[37m\u001b[0m \u001b[1m13s\u001b[0m 7ms/step - accuracy: 0.9061 - loss: 0.2938 - val_accuracy: 0.9188 - val_loss: 0.2481\n",
      "Epoch 5/10\n",
      "\u001b[1m1706/1706\u001b[0m \u001b[32m━━━━━━━━━━━━━━━━━━━━\u001b[0m\u001b[37m\u001b[0m \u001b[1m12s\u001b[0m 7ms/step - accuracy: 0.9170 - loss: 0.2637 - val_accuracy: 0.9250 - val_loss: 0.2198\n",
      "Epoch 6/10\n",
      "\u001b[1m1706/1706\u001b[0m \u001b[32m━━━━━━━━━━━━━━━━━━━━\u001b[0m\u001b[37m\u001b[0m \u001b[1m13s\u001b[0m 8ms/step - accuracy: 0.9222 - loss: 0.2461 - val_accuracy: 0.9306 - val_loss: 0.2213\n",
      "Epoch 7/10\n",
      "\u001b[1m1706/1706\u001b[0m \u001b[32m━━━━━━━━━━━━━━━━━━━━\u001b[0m\u001b[37m\u001b[0m \u001b[1m12s\u001b[0m 7ms/step - accuracy: 0.9256 - loss: 0.2300 - val_accuracy: 0.9310 - val_loss: 0.2085\n",
      "Epoch 8/10\n",
      "\u001b[1m1706/1706\u001b[0m \u001b[32m━━━━━━━━━━━━━━━━━━━━\u001b[0m\u001b[37m\u001b[0m \u001b[1m13s\u001b[0m 8ms/step - accuracy: 0.9222 - loss: 0.2328 - val_accuracy: 0.9325 - val_loss: 0.2199\n",
      "Epoch 9/10\n",
      "\u001b[1m1706/1706\u001b[0m \u001b[32m━━━━━━━━━━━━━━━━━━━━\u001b[0m\u001b[37m\u001b[0m \u001b[1m13s\u001b[0m 7ms/step - accuracy: 0.9299 - loss: 0.2127 - val_accuracy: 0.9199 - val_loss: 0.2294\n",
      "Epoch 10/10\n",
      "\u001b[1m1706/1706\u001b[0m \u001b[32m━━━━━━━━━━━━━━━━━━━━\u001b[0m\u001b[37m\u001b[0m \u001b[1m13s\u001b[0m 7ms/step - accuracy: 0.9311 - loss: 0.2049 - val_accuracy: 0.9272 - val_loss: 0.2726\n",
      "\u001b[1m1974/1974\u001b[0m \u001b[32m━━━━━━━━━━━━━━━━━━━━\u001b[0m\u001b[37m\u001b[0m \u001b[1m5s\u001b[0m 3ms/step\n"
     ]
    },
    {
     "name": "stderr",
     "output_type": "stream",
     "text": [
      "WARNING:absl:You are saving your model as an HDF5 file via `model.save()` or `keras.saving.save_model(model)`. This file format is considered legacy. We recommend using instead the native Keras format, e.g. `model.save('my_model.keras')` or `keras.saving.save_model(model, 'my_model.keras')`. \n"
     ]
    },
    {
     "name": "stdout",
     "output_type": "stream",
     "text": [
      "Perfermance de modèle de l'attaqaunt DNN {'precision': 0.9318843327407886, 'recall': 0.9257658513417241, 'f1-score': 0.9250018452645145, 'support': 63165.0}\n"
     ]
    }
   ],
   "source": [
    "warnings.filterwarnings(\"ignore\", category=UserWarning)\n",
    "\n",
    "input_shape_defender = X_train_defender.shape[1]\n",
    "input_shape_attacker = X_train_attacker.shape[1]\n",
    "nb_neurones_defender=512\n",
    "nb_neurones_attacker=256\n",
    "\n",
    "# DNN pour Défenseur\n",
    "DNN_defender = keras.Sequential([\n",
    "    keras.layers.Dense(nb_neurones_defender, activation='relu', input_shape=(input_shape_defender,)),\n",
    "    keras.layers.Dense(nb_neurones_defender, activation='relu'),\n",
    "    keras.layers.Dense(nb_neurones_defender, activation='relu'),\n",
    "    keras.layers.Dense(17, activation='softmax')\n",
    "])\n",
    "DNN_defender.compile(optimizer='adam',loss='categorical_crossentropy',metrics=['accuracy'],)\n",
    "history_defender = DNN_defender.fit(X_train_scaled_defender, y_train_encoded_defender, epochs=10, batch_size=100)\n",
    "\n",
    "y_pred_defender_prob = DNN_defender.predict(X_test_scaled_defender)\n",
    "y_pred_defender = np.argmax(y_pred_defender_prob, axis=1)\n",
    "report_defender = classification_report(y_test_defender, y_pred_defender,output_dict=True)\n",
    "print(\"Perfermance de modèle de substitution DNN\",report_defender['weighted avg'])\n",
    "\n",
    "tf.keras.models.save_model(DNN_defender, 'Model\\\\' + DataSet_ + '\\\\DefenderModel\\\\DNN_defender.h5')\n",
    "\n",
    "# DNN pour l'attaquant\n",
    "DNN_attacker = keras.Sequential([\n",
    "    keras.layers.Dense((nb_neurones_attacker), activation='relu', input_shape=(input_shape_attacker,)),\n",
    "    keras.layers.Dense(nb_neurones_attacker, activation='relu'),\n",
    "    keras.layers.Dense(nb_neurones_attacker, activation='relu'),\n",
    "    keras.layers.Dense(17, activation='softmax')\n",
    "])\n",
    "DNN_attacker.compile(optimizer='adam',loss='categorical_crossentropy',metrics=['accuracy'])\n",
    "history_attacker = DNN_attacker.fit(X_train_scaled_attacker, y_train_encoded_attacker, epochs=10, batch_size=100, validation_data=(X_val_scaled_attacker, y_val_encoded_attacker))\n",
    "\n",
    "y_pred_attacker_prob = DNN_attacker.predict(X_test_scaled_attacker)\n",
    "y_pred_attacker= np.argmax(y_pred_attacker_prob, axis=1)\n",
    "report_attacker = classification_report(y_test_attacker, y_pred_attacker,output_dict=True)\n",
    "print(\"Perfermance de modèle de l'attaqaunt DNN\",report_attacker['weighted avg'])\n",
    "\n",
    "tf.keras.models.save_model(DNN_attacker, 'Model\\\\' + DataSet_ + '\\\\AttackerModel\\\\DNN_attacker.h5')"
   ]
  },
  {
   "cell_type": "code",
   "execution_count": 92,
   "id": "bf82f3f7",
   "metadata": {},
   "outputs": [
    {
     "name": "stdout",
     "output_type": "stream",
     "text": [
      "Perfermance de modèle de substitution XGBoost {'precision': 0.9764921362563042, 'recall': 0.975033246786144, 'f1-score': 0.9751962790412176, 'support': 63164.0}\n",
      "Perfermance de modèle de l'attaqaunt XGBoost {'precision': 0.9772050633615792, 'recall': 0.9765693026201219, 'f1-score': 0.9762148551076512, 'support': 63165.0}\n"
     ]
    },
    {
     "data": {
      "text/plain": [
       "['Model\\\\IPFIXRecords\\\\AttackerModel\\\\XGBoost_attacker.joblib']"
      ]
     },
     "execution_count": 92,
     "metadata": {},
     "output_type": "execute_result"
    }
   ],
   "source": [
    "warnings.filterwarnings(\"ignore\", category=UserWarning)\n",
    "\n",
    "#XGBoost pour Défenseur\n",
    "# Définir les paramètres du modèle XGBoost\n",
    "params_defender = {\n",
    "    'objective': 'multi:softmax',  # objectif de classification multiclasse\n",
    "    'num_class': 17,  # nombre de classes\n",
    "    'eval_metric': 'merror'  # métrique d'évaluation (taux d'erreur de classification)\n",
    "}\n",
    "params_attacker  = {\n",
    "    'objective': 'multi:softmax',  \n",
    "    'num_class': 17,  \n",
    "    'eval_metric': 'merror' \n",
    "}\n",
    "\n",
    "# Convertir les données au format DMatrix pour XGBoost\n",
    "dtrain_defender = xgb.DMatrix(X_train_defender, label=y_train_defender)\n",
    "dval_defender = xgb.DMatrix(X_val_defender, label=y_val_defender)\n",
    "dtest_defender = xgb.DMatrix(X_test_defender)\n",
    "\n",
    "dtrain_attacker = xgb.DMatrix(X_train_attacker, label=y_train_attacker)\n",
    "dval_attacker = xgb.DMatrix(X_val_attacker, label=y_val_attacker)\n",
    "dtest_attacker = xgb.DMatrix(X_test_attacker)\n",
    "\n",
    "n_Estimateur_attaquant = 100 #nombre d'estimateur\n",
    "n_Estimateur_defenseur = 200 \n",
    "XGBoost_defender = xgb.train(params=params_defender,dtrain=dtrain_defender,num_boost_round=n_Estimateur_defenseur,)\n",
    "pred_defender = XGBoost_defender.predict(dtest_defender)\n",
    "\n",
    "report_defender = classification_report(y_test_defender, pred_defender, output_dict=True)\n",
    "print(\"Perfermance de modèle de substitution XGBoost\",report_defender['weighted avg'])\n",
    "dump(XGBoost_defender, 'Model\\\\' + DataSet_ + '\\\\DefenderModel\\\\XGBoost_defender.joblib')\n",
    "\n",
    "\n",
    "\n",
    "#XGBoost pour l'attaquant\n",
    "XGBoost_attacker = xgb.train(params=params_attacker ,dtrain=dtrain_attacker,num_boost_round=n_Estimateur_attaquant,)\n",
    "pred_attacker = XGBoost_attacker.predict(dtest_attacker)\n",
    "report_attacker = classification_report(y_test_attacker, pred_attacker, output_dict=True)\n",
    "print(\"Perfermance de modèle de l'attaqaunt XGBoost\",report_attacker['weighted avg'])\n",
    "\n",
    "dump(XGBoost_attacker, 'Model\\\\' + DataSet_ + '\\\\AttackerModel\\\\XGBoost_attacker.joblib')\n"
   ]
  },
  {
   "cell_type": "code",
   "execution_count": 93,
   "id": "7f88924d",
   "metadata": {},
   "outputs": [
    {
     "name": "stdout",
     "output_type": "stream",
     "text": [
      "Perfermance de modèle de substitution DT {'precision': 0.9758887352761707, 'recall': 0.9751757330124755, 'f1-score': 0.9751653005530446, 'support': 63164.0}\n",
      "Perfermance de modèle de l'attaqaunt DT {'precision': 0.9763667865776678, 'recall': 0.976031029842476, 'f1-score': 0.9757026243692485, 'support': 63165.0}\n"
     ]
    },
    {
     "data": {
      "text/plain": [
       "['Model/IPFIXHome/AttackerModel/DecisionTree_attacker.joblib']"
      ]
     },
     "execution_count": 93,
     "metadata": {},
     "output_type": "execute_result"
    }
   ],
   "source": [
    "warnings.filterwarnings(\"ignore\", category=UserWarning)\n",
    "\n",
    "fct_qualite_defenseur=\"entropy\"\n",
    "fct_qualite_attacker=\"gini\"\n",
    "DecisionTree_defender = DecisionTreeClassifier(criterion=fct_qualite_defenseur, random_state=0)\n",
    "DecisionTree_defender.fit(X_train_defender, y_train_defender)\n",
    "pred_defender = DecisionTree_defender.predict(X_test_defender)\n",
    "report_defender = classification_report(y_test_defender, pred_defender, output_dict=True)\n",
    "print(\"Perfermance de modèle de substitution DT\",report_defender['weighted avg'])\n",
    "dump(DecisionTree_defender, 'Model\\\\' + DataSet_ + '\\\\DefenderModel\\\\DecisionTree_defender.joblib')\n",
    "\n",
    "\n",
    "DecisionTree_attacker = DecisionTreeClassifier(criterion=fct_qualite_attacker, random_state=0)\n",
    "DecisionTree_attacker.fit(X_train_attacker, y_train_attacker)\n",
    "pred_attacker = DecisionTree_attacker.predict(X_test_attacker)\n",
    "report_attacker = classification_report(y_test_attacker, pred_attacker, output_dict=True)\n",
    "print(\"Perfermance de modèle de l'attaqaunt DT\",report_attacker['weighted avg'])\n",
    "dump(DecisionTree_attacker, 'Model/IPFIXHome/AttackerModel/DecisionTree_attacker.joblib')\n"
   ]
  },
  {
   "cell_type": "code",
   "execution_count": null,
   "id": "7979e7e4",
   "metadata": {},
   "outputs": [],
   "source": []
  }
 ],
 "metadata": {
  "accelerator": "GPU",
  "colab": {
   "gpuType": "T4",
   "provenance": []
  },
  "kernelspec": {
   "display_name": "Python 3 (ipykernel)",
   "language": "python",
   "name": "python3"
  },
  "language_info": {
   "codemirror_mode": {
    "name": "ipython",
    "version": 3
   },
   "file_extension": ".py",
   "mimetype": "text/x-python",
   "name": "python",
   "nbconvert_exporter": "python",
   "pygments_lexer": "ipython3",
   "version": "3.9.7"
  }
 },
 "nbformat": 4,
 "nbformat_minor": 5
}
