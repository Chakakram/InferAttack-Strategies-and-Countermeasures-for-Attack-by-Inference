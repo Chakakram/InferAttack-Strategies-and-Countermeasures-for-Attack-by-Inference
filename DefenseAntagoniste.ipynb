{
 "cells": [
  {
   "cell_type": "code",
   "execution_count": 43,
   "id": "11e1ad40",
   "metadata": {
    "executionInfo": {
     "elapsed": 7749,
     "status": "ok",
     "timestamp": 1711440219908,
     "user": {
      "displayName": "Boucherikha Ramzi",
      "userId": "06809089538434853188"
     },
     "user_tz": -60
    },
    "id": "11e1ad40"
   },
   "outputs": [],
   "source": [
    "import pandas as pd\n",
    "import numpy as np\n",
    "import tensorflow as tf\n",
    "from tensorflow import keras\n",
    "from sklearn.model_selection import train_test_split\n",
    "from keras.utils import to_categorical\n",
    "from sklearn.model_selection import train_test_split\n",
    "from sklearn.preprocessing import StandardScaler\n",
    "from sklearn.metrics import accuracy_score\n",
    "from sklearn.neighbors import KNeighborsClassifier\n",
    "from sklearn.ensemble import RandomForestClassifier\n",
    "from sklearn.metrics import accuracy_score\n",
    "from sklearn.tree import DecisionTreeClassifier\n",
    "from sklearn.model_selection import train_test_split\n",
    "import time\n",
    "import numpy as np\n",
    "from sklearn import metrics\n",
    "from sklearn.metrics import classification_report\n",
    "import warnings\n",
    "from statistics import mean\n",
    "import csv\n",
    "from joblib import dump\n",
    "from joblib import load\n",
    "import xgboost as xgb\n",
    "import matplotlib.pyplot as plt\n",
    "import seaborn as sns "
   ]
  },
  {
   "cell_type": "code",
   "execution_count": 44,
   "id": "2fa52546",
   "metadata": {},
   "outputs": [],
   "source": [
    "def Calcul_perfermance(total_ex, models):\n",
    "    f1_scores = []  # Liste pour stocker les scores F1 de chaque modèle\n",
    "    \n",
    "    for model in models:\n",
    "        if model==DNN_attacker:\n",
    "            total_ex_ = scaler.transform(total_ex) # For DNN\n",
    "            y_adv = model.predict(total_ex_)\n",
    "            pred_class = np.argmax(y_adv, 1) # For DNN\n",
    "        elif model == XGBoost_attacker:\n",
    "            # Préparer les données pour XGBoost \n",
    "            AdverData = pd.DataFrame(columns=UnTarget_Data_reduced.columns)\n",
    "            for tuple_ in total_ex:\n",
    "                row_df = pd.DataFrame([tuple_], columns=UnTarget_Data_reduced.columns)\n",
    "                AdverData = pd.concat([AdverData, row_df], ignore_index=True)\n",
    "            pred_class = model.predict(xgb.DMatrix(AdverData))\n",
    "        else:    \n",
    "            pred_class = model.predict(total_ex)\n",
    "        report = classification_report(pred_class, y_UnTarget_Data_reduced, output_dict=True)\n",
    "        f1_scores.append(report['weighted avg']['f1-score'])\n",
    "\n",
    "    palette = sns.color_palette(\"husl\", len(models))\n",
    "\n",
    "    \n",
    "    model_names = [model.__class__.__name__+\"_Attacker\" for model in models]\n",
    "    plt.figure(figsize=(10, 6))\n",
    "    plt.bar(model_names, f1_scores, color=palette, width=0.4)  \n",
    "    plt.xlabel('Modèles')\n",
    "    plt.ylabel('F1-Score')\n",
    "    plt.title('Performance des modèles après la défense antagoniste')\n",
    "    plt.xticks(rotation=45, ha='right')\n",
    "    plt.ylim(0, 1)  \n",
    "    plt.tight_layout()\n",
    "    plt.show()\n"
   ]
  },
  {
   "cell_type": "code",
   "execution_count": 66,
   "id": "aa1dbf21",
   "metadata": {},
   "outputs": [],
   "source": [
    "def calcule_mean(Dataset_):  # Calcule la moyenne de chaque caractéristique\n",
    "    meanFeature = np.array([])\n",
    "    for col in Feature_independent_modifiable:\n",
    "        mean = Dataset_[col].mean()\n",
    "        meanFeature = np.append(meanFeature, mean)\n",
    "    return meanFeature\n",
    "\n",
    "def calcule_max(Dataset_):  # Calcule le maximum de chaque caractéristique\n",
    "    maxFeature = np.array([])\n",
    "    for col in Feature_independent_modifiable:\n",
    "        maxFeature = np.append(maxFeature, Dataset_[col].max())\n",
    "    return maxFeature\n",
    "\n",
    "def calcul_direction(features_vector_, Target_Mean_):  # Pour calculer la direction de perturbation\n",
    "    Direction = []\n",
    "    for i in range(len(Target_Mean_)):\n",
    "        if features_vector_[i] <= Target_Mean_[i]:\n",
    "            Direction.append(1)\n",
    "        else:\n",
    "            Direction.append(-1)\n",
    "    return Direction\n",
    "\n",
    "def calcule_Difference(features_vector_, Target_Mean_):  # Pour calculer la distance entre l'instance originale et la moyenne de la classe ciblée\n",
    "    difference = []\n",
    "    for i in range(len(Target_Mean_)):\n",
    "        difference.append(abs(features_vector_[i] - Target_Mean_[i]))\n",
    "    return difference\n",
    "\n",
    "def calcule_Pert(Masq_,difference_Mean_, Direction_Perturbation, iteration_, Taux_):  # Pour calculer la perturbation à ajouter à l'instance originale\n",
    "    Perturbation = []\n",
    "    for i in range(len(Direction_Perturbation)):\n",
    "        Per = np.array(Masq_[i]) * (difference_Mean_[i] * (iteration_ * Taux_) * Direction_Perturbation[i])\n",
    "        Perturbation.append(Per)\n",
    "    return Perturbation\n"
   ]
  },
  {
   "cell_type": "code",
   "execution_count": 95,
   "id": "58ace6a4",
   "metadata": {},
   "outputs": [
    {
     "name": "stdout",
     "output_type": "stream",
     "text": [
      "(3000, 14)\n"
     ]
    }
   ],
   "source": [
    "# Chargement du Dataset\n",
    "DataSet_ = \"IPFIXRecords\"  # Dataset utilisé\n",
    " \n",
    "# Charger les données d'entraînement du défenseur\n",
    "X_train_defender = pd.read_csv('Dataset/'+DataSet_+'/X_train_defender.csv')\n",
    "y_train_defender = pd.read_csv('Dataset/'+DataSet_+'/y_train_defender.csv')\n",
    "\n",
    "# Charger les données de test du défenseur\n",
    "X_test_defender = pd.read_csv('Dataset/'+DataSet_+'/X_test_defender.csv')\n",
    "y_test_defender = pd.read_csv('Dataset/'+DataSet_+'/y_test_defender.csv')\n",
    "\n",
    "\n",
    "# Suppression des caractéristiques dépendantes et non modifiables\n",
    "Feature_independent_modifiable = X_train_defender.columns\n",
    "indices_a_supprimer = [1, 2, 3]  # Suppression des caractéristiques dépendantes et non modifiables\n",
    "Feature_independent_modifiable = Feature_independent_modifiable.drop(X_train_defender.columns[indices_a_supprimer])\n",
    "Dataset = X_test_defender\n",
    "Dataset['Ndevice'] = y_test_defender\n",
    "\n",
    "# Définition des classes cibles pour les différents Dataset\n",
    "dataset_keys = {\n",
    "    \"IPFIXRecords\": [7, 8, 16],\n",
    "    \"TrafficTraces\": [1, 4, 6],\n",
    "    \"IPFIXHome\": [1, 4, 12]\n",
    "}\n",
    "Target = dataset_keys[DataSet_]\n",
    "\n",
    "# Séparation des données cibles et non cibles\n",
    "Target_Data1 = Dataset[Dataset['Ndevice'] == Target[0]]\n",
    "Target_Data2 = Dataset[Dataset['Ndevice'] == Target[1]]\n",
    "Target_Data3 = Dataset[Dataset['Ndevice'] == Target[2]]\n",
    "\n",
    "Target_Data = pd.concat([Target_Data1, Target_Data2, Target_Data3])\n",
    "UnTarget_Data = Dataset[(Dataset['Ndevice'] != Target[0]) &\n",
    "                        (Dataset['Ndevice'] != Target[1]) &\n",
    "                        (Dataset['Ndevice'] != Target[2])]\n",
    "\n",
    "# Calcul des moyennes des caractéristiques pour chaque classe cible\n",
    "Mean_Feature_Target1 = calcule_mean(Target_Data1)\n",
    "Mean_Feature_Target2 = calcule_mean(Target_Data2)\n",
    "Mean_Feature_Target3 = calcule_mean(Target_Data3)\n",
    "# Calcul des valeurs maximales des caractéristiques\n",
    "Max_feature = calcule_max(UnTarget_Data)\n",
    "\n",
    "# Réduction des données non cibles\n",
    "UnTarget_Data_reduced, not_used = train_test_split(\n",
    "    UnTarget_Data, random_state=42, stratify=UnTarget_Data.Ndevice, shuffle=True, train_size=0.108)\n",
    "y_UnTarget_Data_reduced = UnTarget_Data_reduced['Ndevice']\n",
    "UnTarget_Data_reduced = UnTarget_Data_reduced.drop(columns=['Ndevice'])\n",
    "print(UnTarget_Data_reduced.shape)\n"
   ]
  },
  {
   "cell_type": "code",
   "execution_count": 99,
   "id": "ViQMyCAYC5xn",
   "metadata": {
    "executionInfo": {
     "elapsed": 266,
     "status": "ok",
     "timestamp": 1711448037839,
     "user": {
      "displayName": "Boucherikha Ramzi",
      "userId": "06809089538434853188"
     },
     "user_tz": -60
    },
    "id": "ViQMyCAYC5xn"
   },
   "outputs": [
    {
     "name": "stderr",
     "output_type": "stream",
     "text": [
      "WARNING:absl:Compiled the loaded model, but the compiled metrics have yet to be built. `model.compile_metrics` will be empty until you train or evaluate the model.\n"
     ]
    }
   ],
   "source": [
    "# Modèle de substitution utilisé\n",
    "Substitute_model = load('Model\\\\' + DataSet_ + '\\\\DefenderModel\\\\XGBoost_defender.joblib')\n",
    "\n",
    "# Chargement et ajustement du scaler\n",
    "scaler = StandardScaler()\n",
    "scaler.fit(X_train_defender)\n",
    "\n",
    "# Modèles utilisés par l'attaquant\n",
    "knn_attacker = load('Model\\\\' + DataSet_ + '\\\\AttackerModel\\\\knn_attacker.joblib')\n",
    "RandomForest_attacker = load('Model\\\\' + DataSet_ + '\\\\AttackerModel\\\\RandomForest_attacker.joblib')\n",
    "XGBoost_attacker = load('Model\\\\' + DataSet_ + '\\\\AttackerModel\\\\XGBoost_attacker.joblib')\n",
    "DecisionTree_attacker = load('Model\\\\' + DataSet_ + '\\\\AttackerModel\\\\DecisionTree_attacker.joblib')\n",
    "DNN_attacker = tf.keras.models.load_model('Model\\\\' + DataSet_ + '\\\\AttackerModel\\\\DNN_attacker.h5')\n",
    "models_attaque = [knn_attacker,RandomForest_attacker, DNN_attacker, XGBoost_attacker, DecisionTree_attacker]\n",
    "\n",
    "# Masques utilisés pour chaque dataset\n",
    "Masqs_ = {\n",
    "    \"IPFIXRecords\":[\n",
    "    (1, 0, 1, 0, 1, 0, 0, 0, 0, 0, 0), (0, 1, 0, 0, 0, 0, 0, 0, 0, 1, 1), \n",
    "    (0, 0, 1, 0, 1, 1, 0, 0, 0, 0, 1), (0, 0, 1, 1, 1, 1, 0, 0, 0, 0, 0),\n",
    "    (1, 0, 1, 0, 1, 1, 0, 0, 0, 0, 0), (0, 1, 0, 0, 0, 1, 0, 0, 0, 1, 1),\n",
    "    (0, 0, 1, 1, 1, 1, 0, 0, 1, 0, 1), (0, 1, 0, 1, 1, 1, 0, 0, 1, 0, 1),\n",
    "    (0, 1, 0, 1, 1, 1, 0, 0, 1, 0, 1), (0, 1, 1, 0, 1, 1, 0, 0, 1, 0, 1),\n",
    "    (1, 0, 0, 1, 1, 1, 0, 0, 1, 0, 1), (1, 0, 1, 0, 1, 1, 0, 0, 1, 0, 1),\n",
    "    (1, 0, 1, 1, 1, 1, 0, 0, 1, 0, 0), (1, 0, 1, 1, 1, 1, 0, 0, 0, 0, 1),\n",
    "    (1, 0, 1, 0, 1, 1, 0, 0, 1, 1, 1), (1, 0, 1, 1, 1, 1, 0, 0, 1, 0, 1),\n",
    "    (1, 0, 1, 1, 1, 1, 1, 1, 1, 1, 1), (1, 1, 0, 1, 1, 1, 1, 1, 1, 1, 1),\n",
    "    (1, 1, 1, 1, 0, 1, 1, 1, 1, 1, 1), (1, 1, 1, 1, 1, 1, 1, 1, 1, 1, 1)\n",
    "],\n",
    "\n",
    "    \"TrafficTraces\":[\n",
    "    (1, 0, 1, 0, 1, 0, 0, 1, 0, 0, 0), (0, 1, 0, 0, 0, 0, 0, 0, 1, 1, 1), \n",
    "    (0, 0, 1, 0, 1, 1, 1, 0, 0, 0, 1), (0, 0, 1, 1, 1, 1, 0, 0, 1, 0, 0),\n",
    "    (1, 0, 1, 0, 1, 1, 0, 1, 0, 0, 0), (0, 1, 0, 1, 0, 1, 0, 0, 0, 1, 1),\n",
    "    (0, 0, 1, 1, 1, 1, 1, 0, 1, 0, 1), (0, 1, 1, 1, 1, 1, 0, 0, 1, 0, 1),\n",
    "    (0, 1, 0, 1, 1, 1, 1, 0, 1, 0, 1), (1, 1, 1, 0, 1, 1, 0, 0, 1, 0, 1),\n",
    "    (1, 0, 0, 1, 1, 1, 0, 0, 1, 0, 1), (1, 0, 1, 0, 1, 1, 0, 0, 1, 0, 1),\n",
    "    (1, 0, 1, 1, 1, 1, 0, 0, 1, 0, 0), (1, 0, 1, 1, 1, 1, 0, 0, 0, 0, 1),\n",
    "    (1, 0, 1, 0, 1, 1, 0, 0, 1, 1, 1), (1, 0, 1, 1, 1, 1, 0, 0, 1, 0, 1),\n",
    "    (1, 0, 1, 1, 1, 1, 1, 1, 1, 1, 1), (1, 1, 0, 1, 1, 1, 1, 1, 1, 1, 1),\n",
    "    (1, 1, 1, 1, 0, 1, 1, 1, 1, 1, 1), (1, 1, 1, 1, 1, 1, 1, 1, 1, 1, 1)\n",
    "],\n",
    "    \"IPFIXHome\": [\n",
    "    (0, 0, 0, 1, 0, 1, 0, 1, 1, 0, 1),(0, 0, 0, 0, 1, 0, 1, 1, 0, 1, 1),\n",
    "    (0, 0, 1, 0, 1, 1, 0, 0, 0, 0, 1),(0, 0, 1, 0, 1, 0, 1, 1, 0, 0, 1),\n",
    "    (0, 0, 1, 1, 1, 0, 0, 1, 0, 0, 0),(0, 1, 0, 0, 1, 0, 1, 0, 0, 1, 1),\n",
    "    (0, 1, 0, 0, 1, 1, 0, 0, 0, 1, 1),(0, 1, 0, 1, 0, 1, 0, 1, 1, 1, 0),\n",
    "    (0, 1, 0, 0, 0, 1, 1, 0, 1, 1, 0),(1, 1, 0, 0, 0, 0, 1, 0, 1, 0, 0),\n",
    "    (1, 1, 0, 0, 1, 1, 0, 1, 1, 1, 0),(1, 1, 0, 1, 0, 1, 1, 0, 0, 1, 0),\n",
    "    (1, 1, 1, 0, 1, 0, 0, 0, 0, 1, 0),(1, 1, 1, 0, 0, 0, 0, 1, 0, 1, 1),\n",
    "    (1, 1, 1, 1, 0, 0, 1, 0, 0, 0, 1),(0, 1, 0, 1, 0, 1, 0, 1, 1, 1, 0),\n",
    "    (0, 1, 0, 0, 0, 1, 1, 0, 1, 1, 0),(1, 1, 1, 0, 1, 0, 1, 0, 0, 1, 0),\n",
    "    (1, 1, 0, 1, 0, 1, 1, 0, 1, 1, 0),(1, 1, 1, 1, 1, 1, 1, 1, 1, 1, 1)\n",
    "]\n",
    "}\n",
    "Masks=Masqs_[DataSet_]\n"
   ]
  },
  {
   "cell_type": "code",
   "execution_count": 102,
   "id": "4de4dd4b",
   "metadata": {
    "colab": {
     "base_uri": "https://localhost:8080/"
    },
    "executionInfo": {
     "elapsed": 1739454,
     "status": "ok",
     "timestamp": 1711447815064,
     "user": {
      "displayName": "Boucherikha Ramzi",
      "userId": "06809089538434853188"
     },
     "user_tz": -60
    },
    "id": "4de4dd4b",
    "outputId": "c07db26f-3a52-414b-a71b-c4f33f422fa0"
   },
   "outputs": [
    {
     "name": "stderr",
     "output_type": "stream",
     "text": [
      "100%|██████████████████████████████████████████████████████████████████████████████| 3000/3000 [08:02<00:00,  6.22it/s]"
     ]
    },
    {
     "name": "stdout",
     "output_type": "stream",
     "text": [
      "Time taken to generate: 3003.984375 seconds\n"
     ]
    },
    {
     "name": "stderr",
     "output_type": "stream",
     "text": [
      "\n"
     ]
    }
   ],
   "source": [
    "from tqdm import tqdm\n",
    "\n",
    "Taux = 0.03\n",
    "warnings.filterwarnings(\"ignore\", category=UserWarning)\n",
    "\n",
    "adversarial_example = []\n",
    "total_example = []\n",
    "steps = []\n",
    "masks = []\n",
    "start = time.process_time()\n",
    "for index, row in tqdm(UnTarget_Data_reduced.iterrows(), total=len(UnTarget_Data_reduced)):\n",
    "    breaked = False\n",
    "    features_vector = [row[col] for col in Feature_independent_modifiable]\n",
    "\n",
    "    distances = [\n",
    "        np.linalg.norm(np.array(features_vector) - np.array(mean_feature))\n",
    "        for mean_feature in [Mean_Feature_Target1, Mean_Feature_Target2, Mean_Feature_Target3]\n",
    "    ]\n",
    "    min_distance_index = np.argmin(distances)\n",
    "    Target_Mean = [Mean_Feature_Target1, Mean_Feature_Target2, Mean_Feature_Target3][min_distance_index]\n",
    "\n",
    "    Direction_Perturbation = []\n",
    "    Direction_Perturbation = calcul_direction(features_vector, Target_Mean)\n",
    "    difference_Mean = []\n",
    "    difference_Mean = calcule_Difference(features_vector, Target_Mean)\n",
    "\n",
    "    clean__ = []\n",
    "    clean__.append(np.array(row))\n",
    "    clean__ = xgb.DMatrix(pd.DataFrame(clean__, columns=UnTarget_Data_reduced.columns)) #pour XGBoost\n",
    "    #clean__ = scaler.transform(clean_) # pour DNN\n",
    "    test_row2 = Substitute_model.predict(clean__)\n",
    "    #test_row2 = np.argmax(test_row2, 1) #pour DNN\n",
    "    for i in range(1, 11):\n",
    "        if (breaked == False):\n",
    "            for Masq in Masks:\n",
    "                adv = np.array(row)\n",
    "                perturbation = calcule_Pert(Masq, difference_Mean, Direction_Perturbation, i, Taux)\n",
    "                # Ajout de la perturbation \n",
    "                adv[0] = adv[0] + perturbation[0]  # Duration\n",
    "                adv[4] = adv[4] + perturbation[1]  # Nombre total de paquets de source à destination\n",
    "                adv[4] = int(adv[4])\n",
    "                adv[5] = adv[5] + perturbation[2]  # Nombre totale d’octets de source à destination\n",
    "                adv[5] = int(adv[5])\n",
    "                adv[6] = adv[6] + perturbation[3]  # Moyenne des temps inter-arrivées pour les paquets émis par la source\n",
    "                adv[7] = adv[7] + perturbation[4]  # Taille maximale des paquets émis par la source\n",
    "                adv[7] = int(adv[7])\n",
    "                adv[8] = adv[8] + perturbation[5]  # Taille moyenne des paquets émis par la source\n",
    "                adv[9] = adv[9] + perturbation[6]  # Nombre total de paquets de destination à source\n",
    "                adv[9] = int(adv[9])\n",
    "                adv[10] = adv[10] + perturbation[7] # Nombre totale d’octets de destination à source\n",
    "                adv[10] = int(adv[10])\n",
    "                adv[11] = adv[11] + perturbation[8] # Moyenne des temps inter-arrivées pour les paquets reçus par la source\n",
    "                adv[12] = adv[12] + perturbation[9] # Taille maximale des paquets reçus par la source\n",
    "                adv[12] = int(adv[12])\n",
    "                adv[13] = adv[13] + perturbation[10]# Taille moyenne des paquets reçus par la source\n",
    "\n",
    "                # Contraintes syntaxiques\n",
    "                # Assurer la plage valide des caractéristiques\n",
    "                if adv[0] > Max_feature[0]:\n",
    "                    adv[0] = Max_feature[0]\n",
    "                for i in range(0, 12):\n",
    "                    if adv[i] > Max_feature[i - 1]:\n",
    "                        adv[i] = Max_feature[i - 1]\n",
    "                for i in range(0, 14):\n",
    "                    if adv[i] < 0:\n",
    "                        adv[i] = 0\n",
    "                # Contraintes syntaxiques\n",
    "                # Assurer la plage valide des caractéristiques\n",
    "\n",
    "                if (adv[5] > 0) & (adv[4] == 0):\n",
    "                    adv[4] == 1\n",
    "                if (adv[10] > 0) & (adv[9] == 0):\n",
    "                    adv[9] == 1\n",
    "\n",
    "                # Cas où la taille moyenne de paquet > taille max de paquet\n",
    "                if adv[8] > adv[7]:\n",
    "                    adv[7] = int(adv[8]) + 1\n",
    "                if adv[13] > adv[12]:\n",
    "                    adv[12] = int(adv[13]) + 1\n",
    "\n",
    "                # Contraintes sémantiques\n",
    "                # nombre total de paquets et de bytes\n",
    "                adv[2] = adv[4] + adv[9]\n",
    "                adv[3] = adv[5] + adv[10]\n",
    "\n",
    "                adv2 = []\n",
    "                adv2.append(adv)\n",
    "                adv2 = xgb.DMatrix(pd.DataFrame(adv2, columns=UnTarget_Data_reduced.columns))#pour XGBoost\n",
    "                #adv2 = scaler.transform(adv2) # pour DNN\n",
    "                test = Substitute_model.predict(adv2)\n",
    "                #test = np.argmax(test, 1) #pour DNN\n",
    "                if (test in Target):\n",
    "                    adversarial_example.append(adv)\n",
    "                    steps.append(i)\n",
    "                    breaked = True\n",
    "                    break\n",
    "    total_example.append(adv)\n",
    "\n",
    "end = time.process_time() - start\n",
    "print(\"Time taken to generate:\", end, \"seconds\")\n"
   ]
  },
  {
   "cell_type": "code",
   "execution_count": 103,
   "id": "bacf9f60",
   "metadata": {},
   "outputs": [
    {
     "name": "stdout",
     "output_type": "stream",
     "text": [
      "\u001b[1m94/94\u001b[0m \u001b[32m━━━━━━━━━━━━━━━━━━━━\u001b[0m\u001b[37m\u001b[0m \u001b[1m0s\u001b[0m 3ms/step\n"
     ]
    },
    {
     "data": {
      "image/png": "[encoded data removed]",
      "text/plain": [
       "<Figure size 720x432 with 1 Axes>"
      ]
     },
     "metadata": {
      "needs_background": "light"
     },
     "output_type": "display_data"
    }
   ],
   "source": [
    "Calcul_perfermance(total_example,models_attaque)"
   ]
  },
  {
   "cell_type": "code",
   "execution_count": null,
   "id": "dcc7b196",
   "metadata": {},
   "outputs": [],
   "source": []
  }
 ],
 "metadata": {
  "accelerator": "GPU",
  "colab": {
   "gpuType": "T4",
   "provenance": []
  },
  "kernelspec": {
   "display_name": "Python 3 (ipykernel)",
   "language": "python",
   "name": "python3"
  },
  "language_info": {
   "codemirror_mode": {
    "name": "ipython",
    "version": 3
   },
   "file_extension": ".py",
   "mimetype": "text/x-python",
   "name": "python",
   "nbconvert_exporter": "python",
   "pygments_lexer": "ipython3",
   "version": "3.9.7"
  }
 },
 "nbformat": 4,
 "nbformat_minor": 5
}
